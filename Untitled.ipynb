{
 "cells": [
  {
   "cell_type": "code",
   "execution_count": 1,
   "metadata": {},
   "outputs": [],
   "source": [
    "from decimal import Decimal\n",
    "\n",
    "\n",
    "TWOPLACES = Decimal(\"0.01\")\n",
    "FIVEPLACES = Decimal(\"0.00001\")\n",
    "\n",
    "\n",
    "class Position(object):\n",
    "    def __init__(\n",
    "        self, action, ticker, init_quantity,\n",
    "        init_price, init_commission,\n",
    "        bid, ask\n",
    "    ):\n",
    "        \"\"\"\n",
    "        Set up the initial \"account\" of the Position to be\n",
    "        zero for most items, with the exception of the initial\n",
    "        purchase/sale.\n",
    "\n",
    "        Then calculate the initial values and finally update the\n",
    "        market value of the transaction.\n",
    "        \"\"\"\n",
    "        self.action = action\n",
    "        self.ticker = ticker\n",
    "        self.quantity = init_quantity\n",
    "        self.init_price = init_price\n",
    "        self.init_commission = init_commission\n",
    "\n",
    "        self.realised_pnl = Decimal(\"0.00\")\n",
    "        self.unrealised_pnl = Decimal(\"0.00\")\n",
    "\n",
    "        self.buys = Decimal(\"0\")\n",
    "        self.sells = Decimal(\"0\")\n",
    "        self.avg_bot = Decimal(\"0.00\")\n",
    "        self.avg_sld = Decimal(\"0.00\")\n",
    "        self.total_bot = Decimal(\"0.00\")\n",
    "        self.total_sld = Decimal(\"0.00\")\n",
    "        self.total_commission = init_commission\n",
    "\n",
    "        self._calculate_initial_value()\n",
    "        self.update_market_value(bid, ask)\n",
    "\n",
    "    def _calculate_initial_value(self):\n",
    "        \"\"\"\n",
    "        Depending upon whether the action was a buy or sell (\"BOT\"\n",
    "        or \"SLD\") calculate the average bought cost, the total bought\n",
    "        cost, the average price and the cost basis.\n",
    "\n",
    "        Finally, calculate the net total with and without commission.\n",
    "        \"\"\"\n",
    "\n",
    "        if self.action == \"BOT\":\n",
    "            self.buys = self.quantity\n",
    "            self.avg_bot = self.init_price.quantize(FIVEPLACES)\n",
    "            self.total_bot = (self.buys * self.avg_bot).quantize(TWOPLACES)\n",
    "            self.avg_price = (\n",
    "                (self.init_price * self.quantity + self.init_commission)/self.quantity\n",
    "            ).quantize(FIVEPLACES)\n",
    "            self.cost_basis = (\n",
    "                self.quantity * self.avg_price\n",
    "            ).quantize(TWOPLACES)\n",
    "        else:  # action == \"SLD\"\n",
    "            self.sells = self.quantity\n",
    "            self.avg_sld = self.init_price.quantize(FIVEPLACES)\n",
    "            self.total_sld = (self.sells * self.avg_sld).quantize(TWOPLACES)\n",
    "            self.avg_price = (\n",
    "                (self.init_price * self.quantity - self.init_commission)/self.quantity\n",
    "            ).quantize(FIVEPLACES)\n",
    "            self.cost_basis = (\n",
    "                -self.quantity * self.avg_price\n",
    "            ).quantize(TWOPLACES)\n",
    "        self.netPosition = self.buys - self.sells\n",
    "        self.netPositionValue = (self.total_sld - self.total_bot).quantize(TWOPLACES)\n",
    "        self.net_incl_comm = (self.net_total - self.init_commission).quantize(TWOPLACES)\n",
    "\n",
    "    def update_market_value(self, bid, ask):\n",
    "        \"\"\"\n",
    "        The market value is tricky to calculate as we only have\n",
    "        access to the top of the order book through Interactive\n",
    "        Brokers, which means that the true redemption price is\n",
    "        unknown until executed.\n",
    "\n",
    "        However, it can be estimated via the mid-price of the\n",
    "        bid-ask spread. Once the market value is calculated it\n",
    "        allows calculation of the unrealised and realised profit\n",
    "        and loss of any transactions.\n",
    "        \"\"\"\n",
    "        midpoint = (bid+ask)/Decimal(\"2.0\")\n",
    "        self.market_value = (\n",
    "            self.quantity * midpoint\n",
    "        ).quantize(TWOPLACES)\n",
    "        self.unrealised_pnl = (\n",
    "            self.market_value - self.cost_basis\n",
    "        ).quantize(TWOPLACES)\n",
    "        self.realised_pnl = (\n",
    "            self.market_value + self.net_incl_comm\n",
    "        )\n",
    "\n",
    "    def transact_shares(self, action, quantity, price, commission):\n",
    "        \"\"\"\n",
    "        Calculates the adjustments to the Position that occur\n",
    "        once new shares are bought and sold.\n",
    "\n",
    "        Takes care to update the average bought/sold, total\n",
    "        bought/sold, the cost basis and PnL calculations,\n",
    "        as carried out through Interactive Brokers TWS.\n",
    "        \"\"\"\n",
    "        prev_quantity = self.quantity\n",
    "        prev_commission = self.total_commission\n",
    "\n",
    "        self.total_commission += commission\n",
    "\n",
    "        # Adjust total bought and sold\n",
    "        if action == \"BOT\":\n",
    "            self.avg_bot = (\n",
    "                (self.avg_bot*self.buys + price*quantity)/(self.buys + quantity)\n",
    "            ).quantize(FIVEPLACES)\n",
    "            if self.action != \"SLD\":\n",
    "                self.avg_price = (\n",
    "                    (\n",
    "                        self.avg_price*self.buys +\n",
    "                        price*quantity+commission\n",
    "                    )/(self.buys + quantity)\n",
    "                ).quantize(FIVEPLACES)\n",
    "            self.buys += quantity\n",
    "            self.total_bot = (self.buys * self.avg_bot).quantize(TWOPLACES)\n",
    "\n",
    "        # action == \"SLD\"\n",
    "        else:\n",
    "            self.avg_sld = (\n",
    "                (self.avg_sld*self.sells + price*quantity)/(self.sells + quantity)\n",
    "            ).quantize(FIVEPLACES)\n",
    "            if self.action != \"BOT\":\n",
    "                self.avg_price = (\n",
    "                    (\n",
    "                        self.avg_price*self.sells +\n",
    "                        price*quantity-commission\n",
    "                    )/(self.sells + quantity)\n",
    "                ).quantize(FIVEPLACES)\n",
    "            self.sells += quantity\n",
    "            self.total_sld = (self.sells * self.avg_sld).quantize(TWOPLACES)\n",
    "\n",
    "        # Adjust net values, including commissions\n",
    "        self.net = self.buys - self.sells\n",
    "        self.quantity = self.net\n",
    "        self.net_total = (\n",
    "            self.total_sld - self.total_bot\n",
    "        ).quantize(TWOPLACES)\n",
    "        self.net_incl_comm = (\n",
    "            self.net_total - self.total_commission\n",
    "        ).quantize(TWOPLACES)\n",
    "\n",
    "        # Adjust average price and cost basis\n",
    "        self.cost_basis = (\n",
    "            self.quantity * self.avg_price\n",
    "        ).quantize(TWOPLACES)"
   ]
  },
  {
   "cell_type": "code",
   "execution_count": 2,
   "metadata": {},
   "outputs": [],
   "source": [
    "from decimal import Decimal\n",
    "\n"
   ]
  },
  {
   "cell_type": "code",
   "execution_count": 10,
   "metadata": {},
   "outputs": [
    {
     "data": {
      "text/plain": [
       "Decimal('0.01000')"
      ]
     },
     "execution_count": 10,
     "metadata": {},
     "output_type": "execute_result"
    }
   ],
   "source": [
    "Decimal(0.01).quantize(FIVEPLACES)\n"
   ]
  },
  {
   "cell_type": "code",
   "execution_count": 14,
   "metadata": {},
   "outputs": [],
   "source": [
    "A =Decimal(\"0\")"
   ]
  },
  {
   "cell_type": "code",
   "execution_count": 15,
   "metadata": {},
   "outputs": [],
   "source": [
    "b =10"
   ]
  },
  {
   "cell_type": "code",
   "execution_count": 16,
   "metadata": {},
   "outputs": [
    {
     "data": {
      "text/plain": [
       "Decimal('0')"
      ]
     },
     "execution_count": 16,
     "metadata": {},
     "output_type": "execute_result"
    }
   ],
   "source": [
    "A *b\n"
   ]
  },
  {
   "cell_type": "code",
   "execution_count": null,
   "metadata": {},
   "outputs": [],
   "source": []
  }
 ],
 "metadata": {
  "kernelspec": {
   "display_name": "Python 3",
   "language": "python",
   "name": "python3"
  },
  "language_info": {
   "codemirror_mode": {
    "name": "ipython",
    "version": 3
   },
   "file_extension": ".py",
   "mimetype": "text/x-python",
   "name": "python",
   "nbconvert_exporter": "python",
   "pygments_lexer": "ipython3",
   "version": "3.6.0"
  }
 },
 "nbformat": 4,
 "nbformat_minor": 2
}

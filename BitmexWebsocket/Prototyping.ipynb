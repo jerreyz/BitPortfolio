{
 "cells": [
  {
   "cell_type": "code",
   "execution_count": 24,
   "metadata": {},
   "outputs": [],
   "source": [
    "import string\n",
    "import os\n",
    "from util.api_key import generate_nonce, generate_signature\n",
    "try:\n",
    "    from urllib.parse import urlparse,urlunparse\n",
    "except ImportError:\n",
    "    from urlparse import urlparse,urlunparse\n",
    "import time, hmac, hashlib\n"
   ]
  },
  {
   "cell_type": "code",
   "execution_count": 25,
   "metadata": {},
   "outputs": [
    {
     "data": {
      "text/plain": [
       "<function urllib.parse.urlparse>"
      ]
     },
     "execution_count": 25,
     "metadata": {},
     "output_type": "execute_result"
    }
   ],
   "source": [
    "urlparse"
   ]
  },
  {
   "cell_type": "code",
   "execution_count": 59,
   "metadata": {},
   "outputs": [],
   "source": [
    "# Generates an API signature.\n",
    "# A signature is HMAC_SHA256(secret, verb + path + nonce + data), hex encoded.\n",
    "# Verb must be uppercased, url is relative, nonce must be an increasing 64-bit integer\n",
    "# and the data, if present, must be JSON without whitespace between keys.\n",
    "#\n",
    "# For example, in psuedocode (and in real code below):\n",
    "#\n",
    "# verb=POST\n",
    "# url=/api/v1/order\n",
    "# nonce=1416993995705\n",
    "# data={\"symbol\":\"XBTZ14\",\"quantity\":1,\"price\":395.01}\n",
    "# signature = HEX(HMAC_SHA256(secret, 'POST/api/v1/order1416993995705{\"symbol\":\"XBTZ14\",\"quantity\":1,\"price\":395.01}'))\n",
    "def generate_signature(secret, verb, url, nonce, data):\n",
    "    \"\"\"Generate a request signature compatible with BitMEX.\"\"\"\n",
    "    # Parse the url so we can remove the base and extract just the path.\n",
    "    parsedURL = urlparse(url)\n",
    "    print(parsedURL)\n",
    "    path = parsedURL.path\n",
    "    if parsedURL.query:\n",
    "        path = path + '?' + parsedURL.query\n",
    "\n",
    "    #print (\"Computing HMAC: %s\" % verb + path + str(nonce) + data)\n",
    "    stringMessage = verb + path + str(nonce) + data\n",
    "    message = stringMessage.encode('utf-8')\n",
    "    signature = hmac.new(secret.encode('utf-8'), message, digestmod=hashlib.sha256).hexdigest()\n",
    "    return signature\n"
   ]
  },
  {
   "cell_type": "code",
   "execution_count": 53,
   "metadata": {},
   "outputs": [
    {
     "name": "stdout",
     "output_type": "stream",
     "text": [
      "The autoreload extension is already loaded. To reload it, use:\n",
      "  %reload_ext autoreload\n"
     ]
    }
   ],
   "source": [
    "%load_ext autoreload\n",
    "from bitmex_websocket import BitMEXWebsocket\n",
    "import logging\n",
    "from time import sleep\n",
    "\n",
    "API_KEY = \"wwvS30igJDo6Ksxa0h2EP1Eq\"\n",
    "API_SECRET = \"-DOHRIUObpSQilqyr2y18YcTRi5NWFIV95du4i8rG4VveOBI\"\n",
    "\n",
    "# Basic use of websocket.\n",
    "def run():\n",
    "    logger = setup_logger()\n",
    "  \n",
    "    # Instantiating the WS will make it connect. Be sure to add your api_key/api_secret.\n",
    "    ws = BitMEXWebsocket(endpoint=\"https://testnet.bitmex.com/api/v1\", symbol=\"XBTUSD\",\n",
    "                         api_key=API_KEY, api_secret=API_SECRET)\n",
    "\n",
    "    logger.info(\"Instrument data: %s\" % ws.get_instrument())\n",
    "\n",
    "    # Run forever\n",
    "    while(ws.ws.sock.connected):\n",
    "        logger.info(\"Ticker: %s\" % ws.get_ticker())\n",
    "        if ws.config['api_key']:\n",
    "            logger.info(\"Funds: %s\" % ws.funds())\n",
    "        logger.info(\"Market Depth: %s\" % ws.market_depth())\n",
    "        logger.info(\"Recent Trades: %s\\n\\n\" % ws.recent_trades())\n",
    "        sleep(10)\n",
    "\n",
    "\n",
    "def setup_logger():\n",
    "    # Prints logger info to terminal\n",
    "    logger = logging.getLogger()\n",
    "    logger.setLevel(logging.INFO)  # Change this to DEBUG if you want a lot more info\n",
    "    ch = logging.StreamHandler()\n",
    "    # create formatter\n",
    "    formatter = logging.Formatter(\"%(asctime)s - %(name)s - %(levelname)s - %(message)s\")\n",
    "    # add formatter to ch\n",
    "    ch.setFormatter(formatter)\n",
    "    logger.addHandler(ch)\n",
    "    return logger\n",
    "\n",
    "\n"
   ]
  },
  {
   "cell_type": "code",
   "execution_count": 55,
   "metadata": {},
   "outputs": [
    {
     "ename": "AttributeError",
     "evalue": "module 'string' has no attribute 'join'",
     "output_type": "error",
     "traceback": [
      "\u001b[0;31m---------------------------------------------------------------------------\u001b[0m",
      "\u001b[0;31mAttributeError\u001b[0m                            Traceback (most recent call last)",
      "\u001b[0;32m<ipython-input-55-157c9bda2cd6>\u001b[0m in \u001b[0;36m<module>\u001b[0;34m()\u001b[0m\n\u001b[0;32m----> 1\u001b[0;31m \u001b[0mrun\u001b[0m\u001b[0;34m(\u001b[0m\u001b[0;34m)\u001b[0m\u001b[0;34m\u001b[0m\u001b[0m\n\u001b[0m",
      "\u001b[0;32m<ipython-input-53-4d1ec0b8efec>\u001b[0m in \u001b[0;36mrun\u001b[0;34m()\u001b[0m\n\u001b[1;32m     13\u001b[0m     \u001b[0;31m# Instantiating the WS will make it connect. Be sure to add your api_key/api_secret.\u001b[0m\u001b[0;34m\u001b[0m\u001b[0;34m\u001b[0m\u001b[0m\n\u001b[1;32m     14\u001b[0m     ws = BitMEXWebsocket(endpoint=\"https://testnet.bitmex.com/api/v1\", symbol=\"XBTUSD\",\n\u001b[0;32m---> 15\u001b[0;31m                          api_key=API_KEY, api_secret=API_SECRET)\n\u001b[0m\u001b[1;32m     16\u001b[0m \u001b[0;34m\u001b[0m\u001b[0m\n\u001b[1;32m     17\u001b[0m     \u001b[0mlogger\u001b[0m\u001b[0;34m.\u001b[0m\u001b[0minfo\u001b[0m\u001b[0;34m(\u001b[0m\u001b[0;34m\"Instrument data: %s\"\u001b[0m \u001b[0;34m%\u001b[0m \u001b[0mws\u001b[0m\u001b[0;34m.\u001b[0m\u001b[0mget_instrument\u001b[0m\u001b[0;34m(\u001b[0m\u001b[0;34m)\u001b[0m\u001b[0;34m)\u001b[0m\u001b[0;34m\u001b[0m\u001b[0m\n",
      "\u001b[0;32m~/Documents/Bitmex/api-connectors/official-ws/python/util/actual_kwargs.py\u001b[0m in \u001b[0;36minner\u001b[0;34m(*args, **kwargs)\u001b[0m\n\u001b[1;32m      8\u001b[0m         \u001b[0;32mdef\u001b[0m \u001b[0minner\u001b[0m\u001b[0;34m(\u001b[0m\u001b[0;34m*\u001b[0m\u001b[0margs\u001b[0m\u001b[0;34m,\u001b[0m \u001b[0;34m**\u001b[0m\u001b[0mkwargs\u001b[0m\u001b[0;34m)\u001b[0m\u001b[0;34m:\u001b[0m\u001b[0;34m\u001b[0m\u001b[0m\n\u001b[1;32m      9\u001b[0m             \u001b[0minner\u001b[0m\u001b[0;34m.\u001b[0m\u001b[0mactual_kwargs\u001b[0m \u001b[0;34m=\u001b[0m \u001b[0mkwargs\u001b[0m\u001b[0;34m\u001b[0m\u001b[0m\n\u001b[0;32m---> 10\u001b[0;31m             \u001b[0;32mreturn\u001b[0m \u001b[0mfunction\u001b[0m\u001b[0;34m(\u001b[0m\u001b[0;34m*\u001b[0m\u001b[0margs\u001b[0m\u001b[0;34m,\u001b[0m \u001b[0;34m**\u001b[0m\u001b[0mkwargs\u001b[0m\u001b[0;34m)\u001b[0m\u001b[0;34m\u001b[0m\u001b[0m\n\u001b[0m\u001b[1;32m     11\u001b[0m         \u001b[0;32mreturn\u001b[0m \u001b[0minner\u001b[0m\u001b[0;34m\u001b[0m\u001b[0m\n\u001b[1;32m     12\u001b[0m     \u001b[0;32mreturn\u001b[0m \u001b[0mdecorator\u001b[0m\u001b[0;34m\u001b[0m\u001b[0m\n",
      "\u001b[0;32m~/Documents/Bitmex/api-connectors/official-ws/python/bitmex_websocket.py\u001b[0m in \u001b[0;36m__init__\u001b[0;34m(self, endpoint, symbol, api_key, api_secret)\u001b[0m\n\u001b[1;32m     43\u001b[0m         \u001b[0;31m# We can subscribe right in the connection querystring, so let's build that.\u001b[0m\u001b[0;34m\u001b[0m\u001b[0;34m\u001b[0m\u001b[0m\n\u001b[1;32m     44\u001b[0m         \u001b[0;31m# Subscribe to all pertinent endpoints\u001b[0m\u001b[0;34m\u001b[0m\u001b[0;34m\u001b[0m\u001b[0m\n\u001b[0;32m---> 45\u001b[0;31m         \u001b[0mprint\u001b[0m\u001b[0;34m(\u001b[0m\u001b[0;34m\"hello\"\u001b[0m\u001b[0;34m)\u001b[0m\u001b[0;34m\u001b[0m\u001b[0m\n\u001b[0m\u001b[1;32m     46\u001b[0m         \u001b[0mwsURL\u001b[0m \u001b[0;34m=\u001b[0m \u001b[0mself\u001b[0m\u001b[0;34m.\u001b[0m\u001b[0m__get_url\u001b[0m\u001b[0;34m(\u001b[0m\u001b[0;34m)\u001b[0m\u001b[0;34m\u001b[0m\u001b[0m\n\u001b[1;32m     47\u001b[0m         \u001b[0mself\u001b[0m\u001b[0;34m.\u001b[0m\u001b[0mlogger\u001b[0m\u001b[0;34m.\u001b[0m\u001b[0minfo\u001b[0m\u001b[0;34m(\u001b[0m\u001b[0;34m\"Connecting to %s\"\u001b[0m \u001b[0;34m%\u001b[0m \u001b[0mwsURL\u001b[0m\u001b[0;34m)\u001b[0m\u001b[0;34m\u001b[0m\u001b[0m\n",
      "\u001b[0;32m~/Documents/Bitmex/api-connectors/official-ws/python/bitmex_websocket.py\u001b[0m in \u001b[0;36m__get_url\u001b[0;34m(self)\u001b[0m\n\u001b[1;32m    160\u001b[0m         \u001b[0mprint\u001b[0m\u001b[0;34m(\u001b[0m\u001b[0msubscriptions\u001b[0m\u001b[0;34m)\u001b[0m\u001b[0;34m\u001b[0m\u001b[0m\n\u001b[1;32m    161\u001b[0m         \u001b[0murlParts\u001b[0m \u001b[0;34m=\u001b[0m \u001b[0mlist\u001b[0m\u001b[0;34m(\u001b[0m\u001b[0murlparse\u001b[0m\u001b[0;34m(\u001b[0m\u001b[0mself\u001b[0m\u001b[0;34m.\u001b[0m\u001b[0mconfig\u001b[0m\u001b[0;34m[\u001b[0m\u001b[0;34m'endpoint'\u001b[0m\u001b[0;34m]\u001b[0m\u001b[0;34m)\u001b[0m\u001b[0;34m)\u001b[0m\u001b[0;34m\u001b[0m\u001b[0m\n\u001b[0;32m--> 162\u001b[0;31m         \u001b[0murlParts\u001b[0m\u001b[0;34m[\u001b[0m\u001b[0;36m0\u001b[0m\u001b[0;34m]\u001b[0m \u001b[0;34m=\u001b[0m \u001b[0murlParts\u001b[0m\u001b[0;34m[\u001b[0m\u001b[0;36m0\u001b[0m\u001b[0;34m]\u001b[0m\u001b[0;34m.\u001b[0m\u001b[0mreplace\u001b[0m\u001b[0;34m(\u001b[0m\u001b[0;34m'http'\u001b[0m\u001b[0;34m,\u001b[0m \u001b[0;34m'ws'\u001b[0m\u001b[0;34m)\u001b[0m\u001b[0;34m\u001b[0m\u001b[0m\n\u001b[0m\u001b[1;32m    163\u001b[0m         \u001b[0murlParts\u001b[0m\u001b[0;34m[\u001b[0m\u001b[0;36m2\u001b[0m\u001b[0;34m]\u001b[0m \u001b[0;34m=\u001b[0m  \u001b[0mos\u001b[0m\u001b[0;34m.\u001b[0m\u001b[0mpath\u001b[0m\u001b[0;34m.\u001b[0m\u001b[0mjoin\u001b[0m\u001b[0;34m(\u001b[0m\u001b[0;34m\"/realtime?subscribe=\"\u001b[0m\u001b[0;34m,\u001b[0m\u001b[0;34m','\u001b[0m\u001b[0;34m.\u001b[0m\u001b[0mjoin\u001b[0m\u001b[0;34m(\u001b[0m\u001b[0mmap\u001b[0m\u001b[0;34m(\u001b[0m\u001b[0mstr\u001b[0m\u001b[0;34m,\u001b[0m \u001b[0msubscriptions\u001b[0m\u001b[0;34m)\u001b[0m\u001b[0;34m)\u001b[0m\u001b[0;34m)\u001b[0m\u001b[0;34m\u001b[0m\u001b[0m\n\u001b[1;32m    164\u001b[0m         \u001b[0;32mreturn\u001b[0m \u001b[0murlparse\u001b[0m\u001b[0;34m.\u001b[0m\u001b[0murlunparse\u001b[0m\u001b[0;34m(\u001b[0m\u001b[0murlParts\u001b[0m\u001b[0;34m)\u001b[0m\u001b[0;34m\u001b[0m\u001b[0m\n",
      "\u001b[0;31mAttributeError\u001b[0m: module 'string' has no attribute 'join'"
     ]
    }
   ],
   "source": [
    "run()"
   ]
  },
  {
   "cell_type": "code",
   "execution_count": null,
   "metadata": {},
   "outputs": [],
   "source": []
  }
 ],
 "metadata": {
  "kernelspec": {
   "display_name": "Python 3",
   "language": "python",
   "name": "python3"
  },
  "language_info": {
   "codemirror_mode": {
    "name": "ipython",
    "version": 3
   },
   "file_extension": ".py",
   "mimetype": "text/x-python",
   "name": "python",
   "nbconvert_exporter": "python",
   "pygments_lexer": "ipython3",
   "version": "3.6.0"
  }
 },
 "nbformat": 4,
 "nbformat_minor": 2
}
